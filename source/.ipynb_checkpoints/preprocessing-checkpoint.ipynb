{
 "cells": [
  {
   "cell_type": "markdown",
   "id": "16c43b3a",
   "metadata": {},
   "source": [
    "# **Cấu hình file**"
   ]
  },
  {
   "cell_type": "code",
   "execution_count": 8,
   "id": "4a2b5326",
   "metadata": {},
   "outputs": [
    {
     "name": "stdout",
     "output_type": "stream",
     "text": [
      "RAW dir: C:\\Users\\pitou\\Desktop\\Data Mining\\data_raw\n",
      "PARQUET dir: C:\\Users\\pitou\\Desktop\\Data Mining\\data_parquet\n",
      "CLEAN dir: C:\\Users\\pitou\\Desktop\\Data Mining\\data_clean\n",
      "Files: {'branches': 'branches.csv', 'customers': 'customers.csv', 'orders': 'orders.csv', 'order_details': 'order_details.csv', 'categories': 'categories.csv'}\n"
     ]
    }
   ],
   "source": [
    "from pathlib import Path\n",
    "\n",
    "DATA_RAW = Path(r\"C:\\Users\\pitou\\Desktop\\Data Mining\\data_raw\")\n",
    "DATA_PARQUET = Path(r\"C:\\Users\\pitou\\Desktop\\Data Mining\\data_parquet\")\n",
    "DATA_CLEAN = Path(r\"C:\\Users\\pitou\\Desktop\\Data Mining\\data_clean\")\n",
    "\n",
    "DATA_PARQUET.mkdir(parents=True, exist_ok=True)\n",
    "DATA_CLEAN.mkdir(parents=True, exist_ok=True)\n",
    "\n",
    "FILES = {\n",
    "    'branches':      'branches.csv',\n",
    "    'customers':     'customers.csv',\n",
    "    'orders':        'orders.csv',\n",
    "    'order_details': 'order_details.csv',\n",
    "    'categories':    'categories.csv',\n",
    "}\n",
    "\n",
    "def p(path: Path) -> str:\n",
    "    return path.resolve().as_posix()\n",
    "\n",
    "print('RAW dir:', DATA_RAW.resolve())\n",
    "print('PARQUET dir:', DATA_PARQUET.resolve())\n",
    "print('CLEAN dir:', DATA_CLEAN.resolve())\n",
    "print('Files:', FILES)"
   ]
  },
  {
   "cell_type": "markdown",
   "id": "d84807f6",
   "metadata": {},
   "source": [
    "# **Chuyển CSV sang Parquet**"
   ]
  },
  {
   "cell_type": "code",
   "execution_count": 9,
   "id": "7d338875",
   "metadata": {},
   "outputs": [
    {
     "name": "stdout",
     "output_type": "stream",
     "text": [
      "→ Converting branches.csv → branches_raw.parquet\n",
      "→ Converting customers.csv → customers_raw.parquet\n",
      "→ Converting orders.csv → orders_raw.parquet\n"
     ]
    },
    {
     "data": {
      "application/vnd.jupyter.widget-view+json": {
       "model_id": "34bb8b7e6e8245b4ada3d938ef5d66e8",
       "version_major": 2,
       "version_minor": 0
      },
      "text/plain": [
       "FloatProgress(value=0.0, layout=Layout(width='auto'), style=ProgressStyle(bar_color='black'))"
      ]
     },
     "metadata": {},
     "output_type": "display_data"
    },
    {
     "name": "stdout",
     "output_type": "stream",
     "text": [
      "→ Converting order_details.csv → order_details_raw.parquet\n"
     ]
    },
    {
     "data": {
      "application/vnd.jupyter.widget-view+json": {
       "model_id": "e7ca7b04ee1b43e2bcecd209cc74b609",
       "version_major": 2,
       "version_minor": 0
      },
      "text/plain": [
       "FloatProgress(value=0.0, layout=Layout(width='auto'), style=ProgressStyle(bar_color='black'))"
      ]
     },
     "metadata": {},
     "output_type": "display_data"
    },
    {
     "name": "stdout",
     "output_type": "stream",
     "text": [
      "→ Converting categories.csv → categories_raw.parquet\n",
      "Convert CSV to Parquet done.\n"
     ]
    }
   ],
   "source": [
    "import duckdb\n",
    "\n",
    "con = duckdb.connect()\n",
    "def csv_to_parquet(csv_path: Path, parquet_path: Path):\n",
    "    sql = f'''\n",
    "    COPY (\n",
    "        SELECT * FROM read_csv_auto('{p(csv_path)}', ALL_VARCHAR=TRUE)\n",
    "    )\n",
    "    TO '{p(parquet_path)}' (FORMAT 'parquet');\n",
    "    '''\n",
    "    con.execute(sql)\n",
    "\n",
    "for key, fname in FILES.items():\n",
    "    csv_fp = DATA_RAW / fname\n",
    "    if not csv_fp.exists():\n",
    "        print(f'Missing CSV: {csv_fp}.')\n",
    "        continue\n",
    "    out_fp = DATA_PARQUET / f'{key}_raw.parquet'\n",
    "    print(f'→ Converting {csv_fp.name} → {out_fp.name}')\n",
    "    csv_to_parquet(csv_fp, out_fp)\n",
    "print('Convert CSV to Parquet done.')\n"
   ]
  },
  {
   "cell_type": "markdown",
   "id": "1c6ce06f",
   "metadata": {},
   "source": [
    "# **Làm sạch dữ liệu với Polars**"
   ]
  },
  {
   "cell_type": "code",
   "execution_count": 10,
   "id": "58569998",
   "metadata": {},
   "outputs": [],
   "source": [
    "import polars as pl\n",
    "\n",
    "def rename_if_present(df: pl.DataFrame | pl.LazyFrame, mapping: dict) -> pl.LazyFrame:\n",
    "    current_cols = set(df.columns) if isinstance(df, pl.DataFrame) else set(df.columns)\n",
    "    safe_map = {old: new for old, new in mapping.items() if old in current_cols}\n",
    "    return df.rename(safe_map)\n",
    "\n",
    "def strip_all_str(df: pl.LazyFrame, cols: list[str]) -> pl.LazyFrame:\n",
    "    ex_cols = [c for c in cols if c in df.columns]\n",
    "    return df.with_columns([pl.col(c).cast(pl.Utf8, strict=False).str.strip_chars().alias(c) for c in ex_cols])\n",
    "\n",
    "def cast_if_present(df: pl.LazyFrame, col: str, dtype) -> pl.LazyFrame:\n",
    "    return df.with_columns(pl.when(pl.col(col).is_not_null()).then(pl.col(col).cast(dtype, strict=False)).otherwise(pl.lit(None)).alias(col)) if col in df.columns else df\n",
    "\n",
    "def write_lazy(df_lazy: pl.LazyFrame, out_path: Path):\n",
    "    df_lazy.sink_parquet(p(out_path))"
   ]
  },
  {
   "cell_type": "code",
   "execution_count": 24,
   "id": "0037e43b",
   "metadata": {},
   "outputs": [
    {
     "name": "stdout",
     "output_type": "stream",
     "text": [
      "branches -> branches_clean.parquet\n"
     ]
    },
    {
     "name": "stderr",
     "output_type": "stream",
     "text": [
      "C:\\Users\\pitou\\AppData\\Local\\Temp\\ipykernel_19312\\3853136603.py:4: PerformanceWarning: Determining the column names of a LazyFrame requires resolving its schema, which is a potentially expensive operation. Use `LazyFrame.collect_schema().names()` to get the column names without this warning.\n",
      "  current_cols = set(df.columns) if isinstance(df, pl.DataFrame) else set(df.columns)\n",
      "C:\\Users\\pitou\\AppData\\Local\\Temp\\ipykernel_19312\\3853136603.py:9: PerformanceWarning: Determining the column names of a LazyFrame requires resolving its schema, which is a potentially expensive operation. Use `LazyFrame.collect_schema().names()` to get the column names without this warning.\n",
      "  ex_cols = [c for c in cols if c in df.columns]\n",
      "C:\\Users\\pitou\\AppData\\Local\\Temp\\ipykernel_19312\\3853136603.py:13: PerformanceWarning: Determining the column names of a LazyFrame requires resolving its schema, which is a potentially expensive operation. Use `LazyFrame.collect_schema().names()` to get the column names without this warning.\n",
      "  return df.with_columns(pl.when(pl.col(col).is_not_null()).then(pl.col(col).cast(dtype, strict=False)).otherwise(pl.lit(None)).alias(col)) if col in df.columns else df\n",
      "C:\\Users\\pitou\\AppData\\Local\\Temp\\ipykernel_19312\\333551156.py:25: PerformanceWarning: Determining the column names of a LazyFrame requires resolving its schema, which is a potentially expensive operation. Use `LazyFrame.collect_schema().names()` to get the column names without this warning.\n",
      "  if 'branch_id' in df.columns:\n"
     ]
    }
   ],
   "source": [
    "# BRANCHES\n",
    "raw_fp = DATA_PARQUET / 'branches_raw.parquet'\n",
    "out_fp = DATA_CLEAN / 'branches_clean.parquet'\n",
    "if raw_fp.exists():\n",
    "    df = pl.scan_parquet(p(raw_fp))\n",
    "    df = rename_if_present(df, {\n",
    "        'BRANCH_ID': 'branch_id',\n",
    "        'REGION': 'region',\n",
    "        'CITY': 'city',\n",
    "        'TOWN': 'town',\n",
    "        'BRANCH_TOWN': 'branch_town',\n",
    "        'LAT': 'lat',\n",
    "        'LON': 'lon',\n",
    "    })\n",
    "\n",
    "    # Làm sạch text cho các cột string\n",
    "    df = strip_all_str(df, ['branch_id', 'region', 'city', 'town', 'branch_town'])\n",
    "\n",
    "    # Ép kiểu cho ID và số\n",
    "    df = cast_if_present(df, 'branch_id', pl.Utf8)\n",
    "    df = cast_if_present(df, 'lat', pl.Float64)\n",
    "    df = cast_if_present(df, 'lon', pl.Float64)\n",
    "\n",
    "    # Loại bỏ dòng trùng theo branch_id nếu có\n",
    "    if 'branch_id' in df.columns:\n",
    "        df = df.unique(subset=['branch_id'])\n",
    "\n",
    "    write_lazy(df, out_fp)\n",
    "    print('branches ->', out_fp.name)\n",
    "else:\n",
    "    print('branches_raw.parquet not found, skipped.')"
   ]
  },
  {
   "cell_type": "code",
   "execution_count": 13,
   "id": "3bfd9314",
   "metadata": {},
   "outputs": [
    {
     "name": "stdout",
     "output_type": "stream",
     "text": [
      "customers -> customers_clean.parquet\n"
     ]
    },
    {
     "name": "stderr",
     "output_type": "stream",
     "text": [
      "C:\\Users\\pitou\\AppData\\Local\\Temp\\ipykernel_19312\\3853136603.py:4: PerformanceWarning: Determining the column names of a LazyFrame requires resolving its schema, which is a potentially expensive operation. Use `LazyFrame.collect_schema().names()` to get the column names without this warning.\n",
      "  current_cols = set(df.columns) if isinstance(df, pl.DataFrame) else set(df.columns)\n",
      "C:\\Users\\pitou\\AppData\\Local\\Temp\\ipykernel_19312\\3853136603.py:9: PerformanceWarning: Determining the column names of a LazyFrame requires resolving its schema, which is a potentially expensive operation. Use `LazyFrame.collect_schema().names()` to get the column names without this warning.\n",
      "  ex_cols = [c for c in cols if c in df.columns]\n",
      "C:\\Users\\pitou\\AppData\\Local\\Temp\\ipykernel_19312\\3853136603.py:13: PerformanceWarning: Determining the column names of a LazyFrame requires resolving its schema, which is a potentially expensive operation. Use `LazyFrame.collect_schema().names()` to get the column names without this warning.\n",
      "  return df.with_columns(pl.when(pl.col(col).is_not_null()).then(pl.col(col).cast(dtype, strict=False)).otherwise(pl.lit(None)).alias(col)) if col in df.columns else df\n",
      "C:\\Users\\pitou\\AppData\\Local\\Temp\\ipykernel_19312\\134218845.py:29: PerformanceWarning: Determining the column names of a LazyFrame requires resolving its schema, which is a potentially expensive operation. Use `LazyFrame.collect_schema().names()` to get the column names without this warning.\n",
      "  if 'birth_date' in df.columns:\n",
      "C:\\Users\\pitou\\AppData\\Local\\Temp\\ipykernel_19312\\134218845.py:35: PerformanceWarning: Determining the column names of a LazyFrame requires resolving its schema, which is a potentially expensive operation. Use `LazyFrame.collect_schema().names()` to get the column names without this warning.\n",
      "  if 'user_id' in df.columns:\n"
     ]
    }
   ],
   "source": [
    "# CUSTOMERS\n",
    "raw_fp = DATA_PARQUET / 'customers_raw.parquet'\n",
    "out_fp = DATA_CLEAN / 'customers_clean.parquet'\n",
    "\n",
    "if raw_fp.exists():\n",
    "    df = pl.scan_parquet(p(raw_fp))\n",
    "    df = rename_if_present(df, {\n",
    "        'USERID': 'user_id',\n",
    "        'USERNAME_': 'username',\n",
    "        'NAMESURNAME': 'name_surname',\n",
    "        'STATUS_': 'status',\n",
    "        'USERGENDER': 'gender',\n",
    "        'USERBIRTHDATE': 'birth_date',\n",
    "        'REGION': 'region',\n",
    "        'CITY': 'city',\n",
    "        'TOWN': 'town',\n",
    "        'DISTRICT': 'district',\n",
    "        'ADDRESSTEXT': 'address_text',\n",
    "    })\n",
    "\n",
    "    # Làm sạch chuỗi cho các cột text\n",
    "    text_cols = ['username', 'name_surname', 'gender', 'region', 'city', 'town', 'district', 'address_text']\n",
    "    df = strip_all_str(df, text_cols)\n",
    "\n",
    "    # Ép kiểu user_id -> string\n",
    "    df = cast_if_present(df, 'user_id', pl.Utf8)\n",
    "\n",
    "    # Parse ngày sinh\n",
    "    if 'birth_date' in df.columns:\n",
    "        df = df.with_columns(\n",
    "            pl.col('birth_date').str.strptime(pl.Date, format='%Y-%m-%d', strict=False)\n",
    "        )\n",
    "\n",
    "    # Loại bỏ trùng user_id nếu có\n",
    "    if 'user_id' in df.columns:\n",
    "        df = df.unique(subset=['user_id'])\n",
    "\n",
    "    write_lazy(df, out_fp)\n",
    "    print('customers ->', out_fp.name)\n",
    "else:\n",
    "    print('customers_raw.parquet not found, skipped.')\n"
   ]
  },
  {
   "cell_type": "code",
   "execution_count": 14,
   "id": "e324b242",
   "metadata": {},
   "outputs": [
    {
     "name": "stderr",
     "output_type": "stream",
     "text": [
      "C:\\Users\\pitou\\AppData\\Local\\Temp\\ipykernel_19312\\3853136603.py:4: PerformanceWarning: Determining the column names of a LazyFrame requires resolving its schema, which is a potentially expensive operation. Use `LazyFrame.collect_schema().names()` to get the column names without this warning.\n",
      "  current_cols = set(df.columns) if isinstance(df, pl.DataFrame) else set(df.columns)\n",
      "C:\\Users\\pitou\\AppData\\Local\\Temp\\ipykernel_19312\\3853136603.py:9: PerformanceWarning: Determining the column names of a LazyFrame requires resolving its schema, which is a potentially expensive operation. Use `LazyFrame.collect_schema().names()` to get the column names without this warning.\n",
      "  ex_cols = [c for c in cols if c in df.columns]\n",
      "C:\\Users\\pitou\\AppData\\Local\\Temp\\ipykernel_19312\\3853136603.py:13: PerformanceWarning: Determining the column names of a LazyFrame requires resolving its schema, which is a potentially expensive operation. Use `LazyFrame.collect_schema().names()` to get the column names without this warning.\n",
      "  return df.with_columns(pl.when(pl.col(col).is_not_null()).then(pl.col(col).cast(dtype, strict=False)).otherwise(pl.lit(None)).alias(col)) if col in df.columns else df\n",
      "C:\\Users\\pitou\\AppData\\Local\\Temp\\ipykernel_19312\\2968886750.py:25: PerformanceWarning: Determining the column names of a LazyFrame requires resolving its schema, which is a potentially expensive operation. Use `LazyFrame.collect_schema().names()` to get the column names without this warning.\n",
      "  if 'order_date' in df.columns:\n",
      "C:\\Users\\pitou\\AppData\\Local\\Temp\\ipykernel_19312\\2968886750.py:31: PerformanceWarning: Determining the column names of a LazyFrame requires resolving its schema, which is a potentially expensive operation. Use `LazyFrame.collect_schema().names()` to get the column names without this warning.\n",
      "  if 'total_basket' in df.columns:\n",
      "C:\\Users\\pitou\\AppData\\Local\\Temp\\ipykernel_19312\\2968886750.py:40: PerformanceWarning: Determining the column names of a LazyFrame requires resolving its schema, which is a potentially expensive operation. Use `LazyFrame.collect_schema().names()` to get the column names without this warning.\n",
      "  if 'order_id' in df.columns:\n"
     ]
    },
    {
     "name": "stdout",
     "output_type": "stream",
     "text": [
      "orders -> orders_clean.parquet\n"
     ]
    }
   ],
   "source": [
    "# ORDERS\n",
    "raw_fp = DATA_PARQUET / 'orders_raw.parquet'\n",
    "out_fp = DATA_CLEAN / 'orders_clean.parquet'\n",
    "\n",
    "if raw_fp.exists():\n",
    "    df = pl.scan_parquet(p(raw_fp))\n",
    "    df = rename_if_present(df, {\n",
    "        'ORDERID': 'order_id',\n",
    "        'BRANCH_ID': 'branch_id',\n",
    "        'DATE_': 'order_date',\n",
    "        'USERID': 'user_id',\n",
    "        'NAMESURNAME': 'name_surname',\n",
    "        'TOTALBASKET': 'total_basket',\n",
    "    })\n",
    "\n",
    "    # Làm sạch text\n",
    "    df = strip_all_str(df, ['branch_id', 'name_surname'])\n",
    "\n",
    "    # Ép kiểu ID về string\n",
    "    df = cast_if_present(df, 'order_id', pl.Utf8)\n",
    "    df = cast_if_present(df, 'user_id', pl.Utf8)\n",
    "    df = cast_if_present(df, 'branch_id', pl.Utf8)\n",
    "\n",
    "    # Parse ngày\n",
    "    if 'order_date' in df.columns:\n",
    "        df = df.with_columns(\n",
    "            pl.col('order_date').str.strptime(pl.Datetime, format='%Y-%m-%d %H:%M:%S', strict=False)\n",
    "        )\n",
    "\n",
    "    # Xử lý cột total_basket\n",
    "    if 'total_basket' in df.columns:\n",
    "        df = df.with_columns(\n",
    "            pl.col('total_basket')\n",
    "            .cast(pl.Utf8, strict=False)\n",
    "            .str.replace_all(\",\", \".\")\n",
    "            .cast(pl.Float64, strict=False)\n",
    "        )\n",
    "\n",
    "    # Loại bỏ trùng order_id nếu có\n",
    "    if 'order_id' in df.columns:\n",
    "        df = df.unique(subset=['order_id'])\n",
    "\n",
    "    write_lazy(df, out_fp)\n",
    "    print('orders ->', out_fp.name)\n",
    "else:\n",
    "    print('orders_raw.parquet not found, skipped.')\n"
   ]
  },
  {
   "cell_type": "code",
   "execution_count": 15,
   "id": "35cf1206",
   "metadata": {},
   "outputs": [
    {
     "name": "stderr",
     "output_type": "stream",
     "text": [
      "C:\\Users\\pitou\\AppData\\Local\\Temp\\ipykernel_19312\\3853136603.py:4: PerformanceWarning: Determining the column names of a LazyFrame requires resolving its schema, which is a potentially expensive operation. Use `LazyFrame.collect_schema().names()` to get the column names without this warning.\n",
      "  current_cols = set(df.columns) if isinstance(df, pl.DataFrame) else set(df.columns)\n",
      "C:\\Users\\pitou\\AppData\\Local\\Temp\\ipykernel_19312\\3853136603.py:13: PerformanceWarning: Determining the column names of a LazyFrame requires resolving its schema, which is a potentially expensive operation. Use `LazyFrame.collect_schema().names()` to get the column names without this warning.\n",
      "  return df.with_columns(pl.when(pl.col(col).is_not_null()).then(pl.col(col).cast(dtype, strict=False)).otherwise(pl.lit(None)).alias(col)) if col in df.columns else df\n",
      "C:\\Users\\pitou\\AppData\\Local\\Temp\\ipykernel_19312\\1482138606.py:24: PerformanceWarning: Determining the column names of a LazyFrame requires resolving its schema, which is a potentially expensive operation. Use `LazyFrame.collect_schema().names()` to get the column names without this warning.\n",
      "  if 'amount' in df.columns:\n",
      "C:\\Users\\pitou\\AppData\\Local\\Temp\\ipykernel_19312\\1482138606.py:29: PerformanceWarning: Determining the column names of a LazyFrame requires resolving its schema, which is a potentially expensive operation. Use `LazyFrame.collect_schema().names()` to get the column names without this warning.\n",
      "  if col in df.columns:\n",
      "C:\\Users\\pitou\\AppData\\Local\\Temp\\ipykernel_19312\\1482138606.py:45: PerformanceWarning: Determining the column names of a LazyFrame requires resolving its schema, which is a potentially expensive operation. Use `LazyFrame.collect_schema().names()` to get the column names without this warning.\n",
      "  if {'amount', 'unit_price', 'total_price'}.issubset(df.columns):\n"
     ]
    },
    {
     "name": "stdout",
     "output_type": "stream",
     "text": [
      "order_details -> order_details_clean.parquet\n"
     ]
    }
   ],
   "source": [
    "# ORDER_DETAILS\n",
    "raw_fp = DATA_PARQUET / 'order_details_raw.parquet'\n",
    "out_fp = DATA_CLEAN / 'order_details_clean.parquet'\n",
    "\n",
    "if raw_fp.exists():\n",
    "    df = pl.scan_parquet(p(raw_fp))\n",
    "    df = rename_if_present(df, {\n",
    "        'ORDERID': 'order_id',\n",
    "        'ORDERDETAILID': 'order_detail_id',\n",
    "        'AMOUNT': 'amount',\n",
    "        'UNITPRICE': 'unit_price',\n",
    "        'TOTALPRICE': 'total_price',\n",
    "        'ITEMID': 'item_id',\n",
    "        'ITEMCODE': 'item_code',\n",
    "    })\n",
    "\n",
    "    # Ép kiểu các ID sang chuỗi\n",
    "    df = cast_if_present(df, 'order_id', pl.Utf8)\n",
    "    df = cast_if_present(df, 'order_detail_id', pl.Utf8)\n",
    "    df = cast_if_present(df, 'item_id', pl.Utf8)\n",
    "    df = cast_if_present(df, 'item_code', pl.Utf8)\n",
    "\n",
    "    # Ép kiểu số lượng\n",
    "    if 'amount' in df.columns:\n",
    "        df = df.with_columns(pl.col('amount').cast(pl.Int64, strict=False))\n",
    "\n",
    "    # Xử lý các cột số có dấu phẩy (unit_price, total_price)\n",
    "    for col in ['unit_price', 'total_price']:\n",
    "        if col in df.columns:\n",
    "            df = df.with_columns(\n",
    "                pl.col(col)\n",
    "                .cast(pl.Utf8, strict=False)\n",
    "                .str.replace_all(\",\", \".\")\n",
    "                .cast(pl.Float64, strict=False)\n",
    "            )\n",
    "\n",
    "    # Loại bỏ dòng không hợp lệ (amount <= 0 hoặc giá null)\n",
    "    df = df.filter(\n",
    "        (pl.col('amount') > 0)\n",
    "        & (pl.col('unit_price').is_not_null())\n",
    "        & (pl.col('total_price').is_not_null())\n",
    "    )\n",
    "\n",
    "    # Kiểm tra tính nhất quán giữa total_price và amount * unitprice\n",
    "    if {'amount', 'unit_price', 'total_price'}.issubset(df.columns):\n",
    "        df = df.with_columns(\n",
    "            (pl.col('amount') * pl.col('unit_price')).alias('calc_line_total')\n",
    "        )\n",
    "\n",
    "    write_lazy(df, out_fp)\n",
    "    print('order_details ->', out_fp.name)\n",
    "else:\n",
    "    print('order_details_raw.parquet not found, skipped.')\n"
   ]
  },
  {
   "cell_type": "code",
   "execution_count": 16,
   "id": "e51082ba",
   "metadata": {},
   "outputs": [
    {
     "name": "stdout",
     "output_type": "stream",
     "text": [
      "categories -> categories_clean.parquet\n"
     ]
    },
    {
     "name": "stderr",
     "output_type": "stream",
     "text": [
      "C:\\Users\\pitou\\AppData\\Local\\Temp\\ipykernel_19312\\3853136603.py:4: PerformanceWarning: Determining the column names of a LazyFrame requires resolving its schema, which is a potentially expensive operation. Use `LazyFrame.collect_schema().names()` to get the column names without this warning.\n",
      "  current_cols = set(df.columns) if isinstance(df, pl.DataFrame) else set(df.columns)\n",
      "C:\\Users\\pitou\\AppData\\Local\\Temp\\ipykernel_19312\\3853136603.py:9: PerformanceWarning: Determining the column names of a LazyFrame requires resolving its schema, which is a potentially expensive operation. Use `LazyFrame.collect_schema().names()` to get the column names without this warning.\n",
      "  ex_cols = [c for c in cols if c in df.columns]\n",
      "C:\\Users\\pitou\\AppData\\Local\\Temp\\ipykernel_19312\\3853136603.py:13: PerformanceWarning: Determining the column names of a LazyFrame requires resolving its schema, which is a potentially expensive operation. Use `LazyFrame.collect_schema().names()` to get the column names without this warning.\n",
      "  return df.with_columns(pl.when(pl.col(col).is_not_null()).then(pl.col(col).cast(dtype, strict=False)).otherwise(pl.lit(None)).alias(col)) if col in df.columns else df\n",
      "C:\\Users\\pitou\\AppData\\Local\\Temp\\ipykernel_19312\\2775043055.py:35: PerformanceWarning: Determining the column names of a LazyFrame requires resolving its schema, which is a potentially expensive operation. Use `LazyFrame.collect_schema().names()` to get the column names without this warning.\n",
      "  if 'item_id' in df.columns:\n"
     ]
    }
   ],
   "source": [
    "# CATEGORIES\n",
    "raw_fp = DATA_PARQUET / 'categories_raw.parquet'\n",
    "out_fp = DATA_CLEAN / 'categories_clean.parquet'\n",
    "\n",
    "if raw_fp.exists():\n",
    "    df = pl.scan_parquet(p(raw_fp))\n",
    "    df = rename_if_present(df, {\n",
    "        'ITEMID': 'item_id',\n",
    "        'CATEGORY1': 'category1',\n",
    "        'CATEGORY1_ID': 'category1_id',\n",
    "        'CATEGORY2': 'category2',\n",
    "        'CATEGORY2_ID': 'category2_id',\n",
    "        'CATEGORY3': 'category3',\n",
    "        'CATEGORY3_ID': 'category3_id',\n",
    "        'CATEGORY4': 'category4',\n",
    "        'CATEGORY4_ID': 'category4_id',\n",
    "        'BRAND': 'brand',\n",
    "        'ITEMCODE': 'item_code',\n",
    "        'ITEMNAME': 'item_name',\n",
    "    })\n",
    "\n",
    "    # Làm sạch chuỗi cho tất cả các cột text\n",
    "    text_cols = [\n",
    "        'category1', 'category2', 'category3', 'category4',\n",
    "        'brand', 'item_name'\n",
    "    ]\n",
    "    df = strip_all_str(df, text_cols)\n",
    "\n",
    "    # Ép kiểu ID về chuỗi\n",
    "    id_cols = ['item_id', 'item_code', 'category1_id', 'category2_id', 'category3_id', 'category4_id']\n",
    "    for c in id_cols:\n",
    "        df = cast_if_present(df, c, pl.Utf8)\n",
    "\n",
    "    # Loại bỏ dòng trùng item_id nếu có\n",
    "    if 'item_id' in df.columns:\n",
    "        df = df.unique(subset=['item_id'])\n",
    "\n",
    "    write_lazy(df, out_fp)\n",
    "    print('categories ->', out_fp.name)\n",
    "else:\n",
    "    print('categories_raw.parquet not found, skipped.')"
   ]
  },
  {
   "cell_type": "markdown",
   "id": "27897860",
   "metadata": {},
   "source": [
    "# **Kiểm tra nhanh thông tin các bảng**"
   ]
  },
  {
   "cell_type": "code",
   "execution_count": 19,
   "id": "b3c2395d",
   "metadata": {},
   "outputs": [
    {
     "name": "stdout",
     "output_type": "stream",
     "text": [
      "— branches: 161 rows\n",
      "shape: (5, 7)\n",
      "┌───────────┬──────────────┬───────────┬─────────────┬──────────────────┬──────────┬──────────┐\n",
      "│ branch_id ┆ region       ┆ city      ┆ town        ┆ branch_town      ┆ lat      ┆ lon      │\n",
      "│ ---       ┆ ---          ┆ ---       ┆ ---         ┆ ---              ┆ ---      ┆ ---      │\n",
      "│ str       ┆ str          ┆ str       ┆ str         ┆ str              ┆ f64      ┆ f64      │\n",
      "╞═══════════╪══════════════╪═══════════╪═════════════╪══════════════════╪══════════╪══════════╡\n",
      "│ 661-TR2   ┆ Karadeniz    ┆ Trabzon   ┆ AKÇAABAT    ┆ TRABZON MERKEZ   ┆ 4.1017e9 ┆ 3.9583e9 │\n",
      "│ 249-MU1   ┆ Doğu Anadolu ┆ Muş       ┆ BULANIK     ┆ MUŞ MERKEZ       ┆ 3.9095e9 ┆ 4.2267e9 │\n",
      "│ 571-KI1   ┆ İç Anadolu   ┆ Kırıkkale ┆ BAHŞİLİ     ┆ KIRIKKALE MERKEZ ┆ 3.9701e9 ┆ 3.3371e9 │\n",
      "│ 614-BO1   ┆ Karadeniz    ┆ Bolu      ┆ BOLU MERKEZ ┆ BOLU MERKEZ      ┆ 4.0739e9 ┆ 3.1612e9 │\n",
      "│ 213-BI1   ┆ Doğu Anadolu ┆ Bitlis    ┆ ADİLCEVAZ   ┆ BİTLİS MERKEZ    ┆ 3.8807e9 ┆ 4.2735e9 │\n",
      "└───────────┴──────────────┴───────────┴─────────────┴──────────────────┴──────────┴──────────┘\n",
      "— customers: 99998 rows\n",
      "shape: (5, 11)\n",
      "┌─────────┬────────────┬────────────┬────────┬───┬──────────┬────────────┬────────────┬────────────┐\n",
      "│ user_id ┆ username   ┆ name_surna ┆ status ┆ … ┆ city     ┆ town       ┆ district   ┆ address_te │\n",
      "│ ---     ┆ ---        ┆ me         ┆ ---    ┆   ┆ ---      ┆ ---        ┆ ---        ┆ xt         │\n",
      "│ str     ┆ str        ┆ ---        ┆ str    ┆   ┆ str      ┆ str        ┆ str        ┆ ---        │\n",
      "│         ┆            ┆ str        ┆        ┆   ┆          ┆            ┆            ┆ str        │\n",
      "╞═════════╪════════════╪════════════╪════════╪═══╪══════════╪════════════╪════════════╪════════════╡\n",
      "│ 95708   ┆ emine.kurt ┆ Emine Kurt ┆ 1      ┆ … ┆ Ankara   ┆ ŞEREFLİKOÇ ┆ EMEK MAH.  ┆ EMEK MAH.  │\n",
      "│         ┆ 70080@yaho ┆            ┆        ┆   ┆          ┆ HİSAR      ┆            ┆ MİLLİYET   │\n",
      "│         ┆ otracker.c ┆            ┆        ┆   ┆          ┆            ┆            ┆ CADDESİ    │\n",
      "│         ┆ …          ┆            ┆        ┆   ┆          ┆            ┆            ┆ 06…        │\n",
      "│ 95471   ┆ erdem.aydi ┆ Erdem      ┆ 1      ┆ … ┆ İstanbul ┆ PENDİK     ┆ YAYALAR    ┆ YAYALAR    │\n",
      "│         ┆ n18107@inb ┆ Aydın      ┆        ┆   ┆          ┆            ┆ MAH.       ┆ MAH.       │\n",
      "│         ┆ oxplus.com ┆            ┆        ┆   ┆          ┆            ┆            ┆ ATATÜRK    │\n",
      "│         ┆            ┆            ┆        ┆   ┆          ┆            ┆            ┆ CADDESİ  … │\n",
      "│ 96743   ┆ fatma.pina ┆ Fatma      ┆ 1      ┆ … ┆ İstanbul ┆ SANCAKTEPE ┆ EYÜP       ┆ EYÜP       │\n",
      "│         ┆ r.erdogan9 ┆ Pınar      ┆        ┆   ┆          ┆            ┆ SULTAN     ┆ SULTAN     │\n",
      "│         ┆ 4436@hotma ┆ Erdoğan    ┆        ┆   ┆          ┆            ┆ MAH.       ┆ MAH.       │\n",
      "│         ┆ …          ┆            ┆        ┆   ┆          ┆            ┆            ┆ TÜRKAN     │\n",
      "│         ┆            ┆            ┆        ┆   ┆          ┆            ┆            ┆ SOKAK …    │\n",
      "│ 94463   ┆ orhan.oztu ┆ Orhan      ┆ 1      ┆ … ┆ İstanbul ┆ PENDİK     ┆ DOĞU MAH.  ┆ DOĞU MAH.  │\n",
      "│         ┆ rk29318@in ┆ Öztürk     ┆        ┆   ┆          ┆            ┆            ┆ AKIN SOKAK │\n",
      "│         ┆ boxplus.co ┆            ┆        ┆   ┆          ┆            ┆            ┆ 34890  P…  │\n",
      "│         ┆ …          ┆            ┆        ┆   ┆          ┆            ┆            ┆            │\n",
      "│ 97007   ┆ murat.alpe ┆ Murat      ┆ 1      ┆ … ┆ İstanbul ┆ ÜSKÜDAR    ┆ BEYLERBEYI ┆ BEYLERBEYI │\n",
      "│         ┆ r.uysal452 ┆ Alper      ┆        ┆   ┆          ┆            ┆ MAH.       ┆ MAH. REİS  │\n",
      "│         ┆ 43@yahootr ┆ Uysal      ┆        ┆   ┆          ┆            ┆            ┆ SOKAK    … │\n",
      "│         ┆ …          ┆            ┆        ┆   ┆          ┆            ┆            ┆            │\n",
      "└─────────┴────────────┴────────────┴────────┴───┴──────────┴────────────┴────────────┴────────────┘\n",
      "— orders: 10235193 rows\n",
      "shape: (5, 6)\n",
      "┌──────────┬───────────┬─────────────────────┬─────────┬───────────────────┬──────────────┐\n",
      "│ order_id ┆ branch_id ┆ order_date          ┆ user_id ┆ name_surname      ┆ total_basket │\n",
      "│ ---      ┆ ---       ┆ ---                 ┆ ---     ┆ ---               ┆ ---          │\n",
      "│ str      ┆ str       ┆ datetime[μs]        ┆ str     ┆ str               ┆ f64          │\n",
      "╞══════════╪═══════════╪═════════════════════╪═════════╪═══════════════════╪══════════════╡\n",
      "│ 8254791  ┆ 716-BU2   ┆ 2023-05-12 00:00:00 ┆ 15315   ┆ Ramazan Eren      ┆ 3694.12      │\n",
      "│ 5218833  ┆ 427-GA3   ┆ 2022-10-15 00:00:00 ┆ 9450    ┆ Volkan Ekinci     ┆ 2312.98      │\n",
      "│ 577798   ┆ 734-İS2   ┆ 2022-02-21 00:00:00 ┆ 59817   ┆ Nur Sevgi Kalaycı ┆ 511.68       │\n",
      "│ 1837125  ┆ 310-BA1   ┆ 2022-11-18 00:00:00 ┆ 48151   ┆ Faruk Çınar       ┆ 744.41       │\n",
      "│ 9743609  ┆ 734-İS4   ┆ 2022-09-29 00:00:00 ┆ 32416   ┆ Çağrı Kurtuluş    ┆ 709.94       │\n",
      "└──────────┴───────────┴─────────────────────┴─────────┴───────────────────┴──────────────┘\n",
      "— order_details: 51185032 rows\n",
      "shape: (5, 8)\n",
      "┌──────────┬──────────────┬────────┬────────────┬─────────────┬─────────┬───────────┬──────────────┐\n",
      "│ order_id ┆ order_detail ┆ amount ┆ unit_price ┆ total_price ┆ item_id ┆ item_code ┆ calc_line_to │\n",
      "│ ---      ┆ _id          ┆ ---    ┆ ---        ┆ ---         ┆ ---     ┆ ---       ┆ tal          │\n",
      "│ str      ┆ ---          ┆ i64    ┆ f64        ┆ f64         ┆ str     ┆ str       ┆ ---          │\n",
      "│          ┆ str          ┆        ┆            ┆             ┆         ┆           ┆ f64          │\n",
      "╞══════════╪══════════════╪════════╪════════════╪═════════════╪═════════╪═══════════╪══════════════╡\n",
      "│ 5523363  ┆ 27622768     ┆ 4      ┆ 12.5       ┆ 25.96       ┆ 23667   ┆ 40199     ┆ 50.0         │\n",
      "│ 5503074  ┆ 27521136     ┆ 3      ┆ 3.5        ┆ 10.08       ┆ 1324    ┆ 2871      ┆ 10.5         │\n",
      "│ 5582877  ┆ 27921491     ┆ 4      ┆ 4.9        ┆ 35.04       ┆ 4735    ┆ 17605     ┆ 19.6         │\n",
      "│ 5571722  ┆ 27865830     ┆ 8      ┆ 15.5       ┆ 85.84       ┆ 17179   ┆ 32797     ┆ 124.0        │\n",
      "│ 5635480  ┆ 28184303     ┆ 2      ┆ 57.5       ┆ 121.1       ┆ 21009   ┆ 34535     ┆ 115.0        │\n",
      "└──────────┴──────────────┴────────┴────────────┴─────────────┴─────────┴───────────┴──────────────┘\n",
      "— categories: 27000 rows\n",
      "shape: (5, 12)\n",
      "┌─────────┬────────────┬────────────┬───────────┬───┬───────────┬──────────┬───────────┬───────────┐\n",
      "│ item_id ┆ category1  ┆ category1_ ┆ category2 ┆ … ┆ category4 ┆ brand    ┆ item_code ┆ item_name │\n",
      "│ ---     ┆ ---        ┆ id         ┆ ---       ┆   ┆ _id       ┆ ---      ┆ ---       ┆ ---       │\n",
      "│ str     ┆ str        ┆ ---        ┆ str       ┆   ┆ ---       ┆ str      ┆ str       ┆ str       │\n",
      "│         ┆            ┆ str        ┆           ┆   ┆ str       ┆          ┆           ┆           │\n",
      "╞═════════╪════════════╪════════════╪═══════════╪═══╪═══════════╪══════════╪═══════════╪═══════════╡\n",
      "│ 25633   ┆ TEMIZLIK   ┆ 246161229  ┆ EV TEMIZL ┆ … ┆ 43-101117 ┆ BREF     ┆ 41720     ┆ BREF      │\n",
      "│         ┆            ┆            ┆ EYICILER  ┆   ┆ 2929      ┆          ┆           ┆ BANYO     │\n",
      "│         ┆            ┆            ┆           ┆   ┆           ┆          ┆           ┆ CLEANER   │\n",
      "│         ┆            ┆            ┆           ┆   ┆           ┆          ┆           ┆ 500       │\n",
      "│         ┆            ┆            ┆           ┆   ┆           ┆          ┆           ┆ ML.*10*   │\n",
      "│ 26606   ┆ KAGIT      ┆ 14181224   ┆ KISISEL   ┆ … ┆ 48-277523 ┆ MOLPED   ┆ 37301     ┆ MOLPED    │\n",
      "│         ┆            ┆            ┆ BAKIM     ┆   ┆ 31        ┆          ┆           ┆ PURE&SOFT │\n",
      "│         ┆            ┆            ┆           ┆   ┆           ┆          ┆           ┆ NOR.TEKLI │\n",
      "│         ┆            ┆            ┆           ┆   ┆           ┆          ┆           ┆ 8L…       │\n",
      "│ 25996   ┆ EV         ┆ 627999999  ┆ KITAP-DER ┆ … ┆ 71-609792 ┆ KITAPLAR ┆ 37079     ┆ UYGURLAR  │\n",
      "│         ┆            ┆            ┆ GI-KIRTAS ┆   ┆ 23        ┆          ┆           ┆           │\n",
      "│         ┆            ┆            ┆ IYE       ┆   ┆           ┆          ┆           ┆           │\n",
      "│ 25324   ┆ KOZMETIK   ┆ 141829166  ┆ DUS-BANYO ┆ … ┆ 43-101117 ┆ SALON    ┆ 41196     ┆ SALON     │\n",
      "│         ┆            ┆            ┆           ┆   ┆ 2929      ┆          ┆           ┆ S.S. 2 LT │\n",
      "│         ┆            ┆            ┆           ┆   ┆           ┆          ┆           ┆ GUL *8*   │\n",
      "│ 25325   ┆ SICAK      ┆ 22123114   ┆ GUNLUK    ┆ … ┆ 170-38112 ┆ KENTON   ┆ 41199     ┆ KENTON    │\n",
      "│         ┆ ICECEKLER  ┆            ┆ ICECEK    ┆   ┆ 29166     ┆          ┆           ┆ CAPPUCCIN │\n",
      "│         ┆            ┆            ┆           ┆   ┆           ┆          ┆           ┆ O 12.5    │\n",
      "│         ┆            ┆            ┆           ┆   ┆           ┆          ┆           ┆ GR*48*    │\n",
      "└─────────┴────────────┴────────────┴───────────┴───┴───────────┴──────────┴───────────┴───────────┘\n",
      "branches.branch_id appears unique\n",
      "customers.customer_id appears unique\n",
      "orders.order_id appears unique\n",
      "categories.category_id appears unique\n",
      "Validation pass finished.\n"
     ]
    }
   ],
   "source": [
    "def safe_scan(path: Path):\n",
    "    return pl.scan_parquet(p(path)) if path.exists() else None\n",
    "\n",
    "checks = {}\n",
    "for name in ['branches', 'customers', 'orders', 'order_details', 'categories']:\n",
    "    fp = DATA_CLEAN / f'{name}_clean.parquet'\n",
    "    df = safe_scan(fp)\n",
    "    if df is None:\n",
    "        print(f'Missing {fp.name}')\n",
    "        continue\n",
    "    head = df.head(5).collect()\n",
    "    rows = df.select(pl.len()).collect().item()\n",
    "    checks[name] = {'rows': rows, 'sample': head}\n",
    "\n",
    "    print(f'— {name}: {rows} rows')\n",
    "    print(head)\n",
    "\n",
    "def check_unique(df_lazy: pl.LazyFrame, key: str):\n",
    "    if df_lazy is None or key not in df_lazy.collect_schema().names():\n",
    "        return None\n",
    "\n",
    "    dup = (\n",
    "        df_lazy\n",
    "        .group_by(key)\n",
    "        .agg(pl.len().alias(\"count\"))\n",
    "        .filter(pl.col(\"count\") > 1)\n",
    "        .limit(5)\n",
    "        .collect()\n",
    "    )\n",
    "    return dup\n",
    "\n",
    "for name, key in [('branches','branch_id'), ('customers','customer_id'), ('orders','order_id'), ('categories','category_id')]:\n",
    "    fp = DATA_CLEAN / f'{name}_clean.parquet'\n",
    "    df = safe_scan(fp)\n",
    "    if df is None:\n",
    "        continue\n",
    "    dup = check_unique(df, key)\n",
    "    if dup is not None and dup.height > 0:\n",
    "        print(f'Duplicates in {name}.{key}:')\n",
    "        print(dup)\n",
    "    else:\n",
    "        print(f'{name}.{key} appears unique')\n",
    "\n",
    "print('Validation pass finished.')"
   ]
  },
  {
   "cell_type": "markdown",
   "id": "db354aac",
   "metadata": {},
   "source": [
    "# **Tiền xử lý dữ liệu từng file**"
   ]
  },
  {
   "cell_type": "code",
   "execution_count": null,
   "id": "d7dfc320",
   "metadata": {},
   "outputs": [],
   "source": []
  }
 ],
 "metadata": {
  "kernelspec": {
   "display_name": "Python 3",
   "language": "python",
   "name": "python3"
  },
  "language_info": {
   "codemirror_mode": {
    "name": "ipython",
    "version": 3
   },
   "file_extension": ".py",
   "mimetype": "text/x-python",
   "name": "python",
   "nbconvert_exporter": "python",
   "pygments_lexer": "ipython3",
   "version": "3.13.7"
  }
 },
 "nbformat": 4,
 "nbformat_minor": 5
}
